{
 "cells": [
  {
   "cell_type": "code",
   "execution_count": 1,
   "id": "constant-signature",
   "metadata": {},
   "outputs": [],
   "source": [
    "import pandas as pd\n",
    "import math\n",
    "from datetime import datetime\n",
    "\n",
    "import numpy as np\n",
    "from pandas import Series, DataFrame\n",
    "import nsepy as ns"
   ]
  },
  {
   "cell_type": "code",
   "execution_count": 2,
   "id": "spectacular-greek",
   "metadata": {},
   "outputs": [],
   "source": [
    "df = pd.read_csv(\"../datasets/data/TATAMOTORS.csv\", index_col = \"timestamp\")"
   ]
  },
  {
   "cell_type": "code",
   "execution_count": 3,
   "id": "adverse-lemon",
   "metadata": {},
   "outputs": [],
   "source": [
    "# ls"
   ]
  },
  {
   "cell_type": "code",
   "execution_count": 4,
   "id": "promising-public",
   "metadata": {},
   "outputs": [
    {
     "data": {
      "text/html": [
       "<div>\n",
       "<style scoped>\n",
       "    .dataframe tbody tr th:only-of-type {\n",
       "        vertical-align: middle;\n",
       "    }\n",
       "\n",
       "    .dataframe tbody tr th {\n",
       "        vertical-align: top;\n",
       "    }\n",
       "\n",
       "    .dataframe thead th {\n",
       "        text-align: right;\n",
       "    }\n",
       "</style>\n",
       "<table border=\"1\" class=\"dataframe\">\n",
       "  <thead>\n",
       "    <tr style=\"text-align: right;\">\n",
       "      <th></th>\n",
       "      <th>open</th>\n",
       "      <th>high</th>\n",
       "      <th>low</th>\n",
       "      <th>close</th>\n",
       "      <th>adjusted_close</th>\n",
       "      <th>volume</th>\n",
       "      <th>dividend_amount</th>\n",
       "      <th>split_coefficient</th>\n",
       "    </tr>\n",
       "    <tr>\n",
       "      <th>timestamp</th>\n",
       "      <th></th>\n",
       "      <th></th>\n",
       "      <th></th>\n",
       "      <th></th>\n",
       "      <th></th>\n",
       "      <th></th>\n",
       "      <th></th>\n",
       "      <th></th>\n",
       "    </tr>\n",
       "  </thead>\n",
       "  <tbody>\n",
       "    <tr>\n",
       "      <th>19-03-2021</th>\n",
       "      <td>303.3</td>\n",
       "      <td>311.00</td>\n",
       "      <td>290.35</td>\n",
       "      <td>308.95</td>\n",
       "      <td>308.95</td>\n",
       "      <td>5202269</td>\n",
       "      <td>0.0</td>\n",
       "      <td>1.0</td>\n",
       "    </tr>\n",
       "    <tr>\n",
       "      <th>18-03-2021</th>\n",
       "      <td>310.6</td>\n",
       "      <td>316.50</td>\n",
       "      <td>299.75</td>\n",
       "      <td>306.90</td>\n",
       "      <td>306.90</td>\n",
       "      <td>5997189</td>\n",
       "      <td>0.0</td>\n",
       "      <td>1.0</td>\n",
       "    </tr>\n",
       "    <tr>\n",
       "      <th>17-03-2021</th>\n",
       "      <td>317.0</td>\n",
       "      <td>320.00</td>\n",
       "      <td>304.00</td>\n",
       "      <td>305.85</td>\n",
       "      <td>305.85</td>\n",
       "      <td>2202123</td>\n",
       "      <td>0.0</td>\n",
       "      <td>1.0</td>\n",
       "    </tr>\n",
       "    <tr>\n",
       "      <th>16-03-2021</th>\n",
       "      <td>320.3</td>\n",
       "      <td>321.80</td>\n",
       "      <td>315.30</td>\n",
       "      <td>319.75</td>\n",
       "      <td>319.75</td>\n",
       "      <td>1860583</td>\n",
       "      <td>0.0</td>\n",
       "      <td>1.0</td>\n",
       "    </tr>\n",
       "    <tr>\n",
       "      <th>15-03-2021</th>\n",
       "      <td>320.4</td>\n",
       "      <td>320.65</td>\n",
       "      <td>310.10</td>\n",
       "      <td>318.45</td>\n",
       "      <td>318.45</td>\n",
       "      <td>2305974</td>\n",
       "      <td>0.0</td>\n",
       "      <td>1.0</td>\n",
       "    </tr>\n",
       "  </tbody>\n",
       "</table>\n",
       "</div>"
      ],
      "text/plain": [
       "             open    high     low   close  adjusted_close   volume  \\\n",
       "timestamp                                                            \n",
       "19-03-2021  303.3  311.00  290.35  308.95          308.95  5202269   \n",
       "18-03-2021  310.6  316.50  299.75  306.90          306.90  5997189   \n",
       "17-03-2021  317.0  320.00  304.00  305.85          305.85  2202123   \n",
       "16-03-2021  320.3  321.80  315.30  319.75          319.75  1860583   \n",
       "15-03-2021  320.4  320.65  310.10  318.45          318.45  2305974   \n",
       "\n",
       "            dividend_amount  split_coefficient  \n",
       "timestamp                                       \n",
       "19-03-2021              0.0                1.0  \n",
       "18-03-2021              0.0                1.0  \n",
       "17-03-2021              0.0                1.0  \n",
       "16-03-2021              0.0                1.0  \n",
       "15-03-2021              0.0                1.0  "
      ]
     },
     "execution_count": 4,
     "metadata": {},
     "output_type": "execute_result"
    }
   ],
   "source": [
    "df.head()"
   ]
  },
  {
   "cell_type": "code",
   "execution_count": 5,
   "id": "hazardous-verification",
   "metadata": {},
   "outputs": [],
   "source": [
    "# Checking data from nse_py\n",
    "# tata = ns.get_history(symbol=\"TATAMOTORS\", \n",
    "#                     start = datetime(2005,1,1),\n",
    " #                    end = datetime(2021,3,19))"
   ]
  },
  {
   "cell_type": "code",
   "execution_count": 6,
   "id": "referenced-knight",
   "metadata": {},
   "outputs": [],
   "source": [
    "# tata.tail()"
   ]
  },
  {
   "cell_type": "code",
   "execution_count": 7,
   "id": "female-czech",
   "metadata": {},
   "outputs": [],
   "source": [
    "df.sort_values([\"timestamp\"], ascending = True, inplace=True)"
   ]
  },
  {
   "cell_type": "code",
   "execution_count": 8,
   "id": "secondary-volleyball",
   "metadata": {},
   "outputs": [
    {
     "data": {
      "text/html": [
       "<div>\n",
       "<style scoped>\n",
       "    .dataframe tbody tr th:only-of-type {\n",
       "        vertical-align: middle;\n",
       "    }\n",
       "\n",
       "    .dataframe tbody tr th {\n",
       "        vertical-align: top;\n",
       "    }\n",
       "\n",
       "    .dataframe thead th {\n",
       "        text-align: right;\n",
       "    }\n",
       "</style>\n",
       "<table border=\"1\" class=\"dataframe\">\n",
       "  <thead>\n",
       "    <tr style=\"text-align: right;\">\n",
       "      <th></th>\n",
       "      <th>open</th>\n",
       "      <th>high</th>\n",
       "      <th>low</th>\n",
       "      <th>close</th>\n",
       "      <th>adjusted_close</th>\n",
       "      <th>volume</th>\n",
       "      <th>dividend_amount</th>\n",
       "      <th>split_coefficient</th>\n",
       "    </tr>\n",
       "    <tr>\n",
       "      <th>timestamp</th>\n",
       "      <th></th>\n",
       "      <th></th>\n",
       "      <th></th>\n",
       "      <th></th>\n",
       "      <th></th>\n",
       "      <th></th>\n",
       "      <th></th>\n",
       "      <th></th>\n",
       "    </tr>\n",
       "  </thead>\n",
       "  <tbody>\n",
       "    <tr>\n",
       "      <th>01-01-2008</th>\n",
       "      <td>731.1380</td>\n",
       "      <td>731.1380</td>\n",
       "      <td>731.1380</td>\n",
       "      <td>731.1380</td>\n",
       "      <td>138.3511</td>\n",
       "      <td>900025</td>\n",
       "      <td>0.0</td>\n",
       "      <td>1.0</td>\n",
       "    </tr>\n",
       "    <tr>\n",
       "      <th>01-01-2009</th>\n",
       "      <td>156.3275</td>\n",
       "      <td>175.0770</td>\n",
       "      <td>156.3275</td>\n",
       "      <td>169.1405</td>\n",
       "      <td>32.4982</td>\n",
       "      <td>2983816</td>\n",
       "      <td>0.0</td>\n",
       "      <td>1.0</td>\n",
       "    </tr>\n",
       "    <tr>\n",
       "      <th>01-01-2013</th>\n",
       "      <td>311.3191</td>\n",
       "      <td>314.6336</td>\n",
       "      <td>311.1707</td>\n",
       "      <td>313.0506</td>\n",
       "      <td>311.2455</td>\n",
       "      <td>828325</td>\n",
       "      <td>0.0</td>\n",
       "      <td>1.0</td>\n",
       "    </tr>\n",
       "    <tr>\n",
       "      <th>01-01-2014</th>\n",
       "      <td>374.0974</td>\n",
       "      <td>374.6911</td>\n",
       "      <td>370.0408</td>\n",
       "      <td>370.9313</td>\n",
       "      <td>370.0558</td>\n",
       "      <td>179949</td>\n",
       "      <td>0.0</td>\n",
       "      <td>1.0</td>\n",
       "    </tr>\n",
       "    <tr>\n",
       "      <th>01-01-2015</th>\n",
       "      <td>487.3853</td>\n",
       "      <td>494.4596</td>\n",
       "      <td>487.3853</td>\n",
       "      <td>492.9755</td>\n",
       "      <td>492.8754</td>\n",
       "      <td>108635</td>\n",
       "      <td>0.0</td>\n",
       "      <td>1.0</td>\n",
       "    </tr>\n",
       "  </tbody>\n",
       "</table>\n",
       "</div>"
      ],
      "text/plain": [
       "                open      high       low     close  adjusted_close   volume  \\\n",
       "timestamp                                                                     \n",
       "01-01-2008  731.1380  731.1380  731.1380  731.1380        138.3511   900025   \n",
       "01-01-2009  156.3275  175.0770  156.3275  169.1405         32.4982  2983816   \n",
       "01-01-2013  311.3191  314.6336  311.1707  313.0506        311.2455   828325   \n",
       "01-01-2014  374.0974  374.6911  370.0408  370.9313        370.0558   179949   \n",
       "01-01-2015  487.3853  494.4596  487.3853  492.9755        492.8754   108635   \n",
       "\n",
       "            dividend_amount  split_coefficient  \n",
       "timestamp                                       \n",
       "01-01-2008              0.0                1.0  \n",
       "01-01-2009              0.0                1.0  \n",
       "01-01-2013              0.0                1.0  \n",
       "01-01-2014              0.0                1.0  \n",
       "01-01-2015              0.0                1.0  "
      ]
     },
     "execution_count": 8,
     "metadata": {},
     "output_type": "execute_result"
    }
   ],
   "source": [
    "df.head()"
   ]
  },
  {
   "cell_type": "code",
   "execution_count": 9,
   "id": "unlimited-homework",
   "metadata": {},
   "outputs": [
    {
     "data": {
      "text/html": [
       "<div>\n",
       "<style scoped>\n",
       "    .dataframe tbody tr th:only-of-type {\n",
       "        vertical-align: middle;\n",
       "    }\n",
       "\n",
       "    .dataframe tbody tr th {\n",
       "        vertical-align: top;\n",
       "    }\n",
       "\n",
       "    .dataframe thead th {\n",
       "        text-align: right;\n",
       "    }\n",
       "</style>\n",
       "<table border=\"1\" class=\"dataframe\">\n",
       "  <thead>\n",
       "    <tr style=\"text-align: right;\">\n",
       "      <th></th>\n",
       "      <th>open</th>\n",
       "      <th>high</th>\n",
       "      <th>low</th>\n",
       "      <th>close</th>\n",
       "      <th>adjusted_close</th>\n",
       "      <th>volume</th>\n",
       "      <th>dividend_amount</th>\n",
       "      <th>split_coefficient</th>\n",
       "    </tr>\n",
       "    <tr>\n",
       "      <th>timestamp</th>\n",
       "      <th></th>\n",
       "      <th></th>\n",
       "      <th></th>\n",
       "      <th></th>\n",
       "      <th></th>\n",
       "      <th></th>\n",
       "      <th></th>\n",
       "      <th></th>\n",
       "    </tr>\n",
       "  </thead>\n",
       "  <tbody>\n",
       "    <tr>\n",
       "      <th>31-12-2014</th>\n",
       "      <td>489.3147</td>\n",
       "      <td>493.1734</td>\n",
       "      <td>485.9012</td>\n",
       "      <td>490.8483</td>\n",
       "      <td>490.7487</td>\n",
       "      <td>296366</td>\n",
       "      <td>0.0</td>\n",
       "      <td>1.0</td>\n",
       "    </tr>\n",
       "    <tr>\n",
       "      <th>31-12-2015</th>\n",
       "      <td>394.4000</td>\n",
       "      <td>395.9000</td>\n",
       "      <td>389.3000</td>\n",
       "      <td>391.2500</td>\n",
       "      <td>391.1706</td>\n",
       "      <td>219445</td>\n",
       "      <td>0.0</td>\n",
       "      <td>1.0</td>\n",
       "    </tr>\n",
       "    <tr>\n",
       "      <th>31-12-2018</th>\n",
       "      <td>172.6000</td>\n",
       "      <td>173.9000</td>\n",
       "      <td>171.9000</td>\n",
       "      <td>172.6000</td>\n",
       "      <td>172.6000</td>\n",
       "      <td>536131</td>\n",
       "      <td>0.0</td>\n",
       "      <td>1.0</td>\n",
       "    </tr>\n",
       "    <tr>\n",
       "      <th>31-12-2019</th>\n",
       "      <td>184.1000</td>\n",
       "      <td>187.9000</td>\n",
       "      <td>181.5500</td>\n",
       "      <td>185.1000</td>\n",
       "      <td>185.1000</td>\n",
       "      <td>2633656</td>\n",
       "      <td>0.0</td>\n",
       "      <td>1.0</td>\n",
       "    </tr>\n",
       "    <tr>\n",
       "      <th>31-12-2020</th>\n",
       "      <td>185.0000</td>\n",
       "      <td>187.5000</td>\n",
       "      <td>182.8500</td>\n",
       "      <td>183.7000</td>\n",
       "      <td>183.7000</td>\n",
       "      <td>2122018</td>\n",
       "      <td>0.0</td>\n",
       "      <td>1.0</td>\n",
       "    </tr>\n",
       "  </tbody>\n",
       "</table>\n",
       "</div>"
      ],
      "text/plain": [
       "                open      high       low     close  adjusted_close   volume  \\\n",
       "timestamp                                                                     \n",
       "31-12-2014  489.3147  493.1734  485.9012  490.8483        490.7487   296366   \n",
       "31-12-2015  394.4000  395.9000  389.3000  391.2500        391.1706   219445   \n",
       "31-12-2018  172.6000  173.9000  171.9000  172.6000        172.6000   536131   \n",
       "31-12-2019  184.1000  187.9000  181.5500  185.1000        185.1000  2633656   \n",
       "31-12-2020  185.0000  187.5000  182.8500  183.7000        183.7000  2122018   \n",
       "\n",
       "            dividend_amount  split_coefficient  \n",
       "timestamp                                       \n",
       "31-12-2014              0.0                1.0  \n",
       "31-12-2015              0.0                1.0  \n",
       "31-12-2018              0.0                1.0  \n",
       "31-12-2019              0.0                1.0  \n",
       "31-12-2020              0.0                1.0  "
      ]
     },
     "execution_count": 9,
     "metadata": {},
     "output_type": "execute_result"
    }
   ],
   "source": [
    "df.tail()"
   ]
  },
  {
   "cell_type": "code",
   "execution_count": 10,
   "id": "banner-blogger",
   "metadata": {},
   "outputs": [],
   "source": [
    "df = df[['open', 'high', 'low', 'close', 'adjusted_close', 'volume']]"
   ]
  },
  {
   "cell_type": "code",
   "execution_count": 11,
   "id": "interracial-understanding",
   "metadata": {},
   "outputs": [
    {
     "data": {
      "text/html": [
       "<div>\n",
       "<style scoped>\n",
       "    .dataframe tbody tr th:only-of-type {\n",
       "        vertical-align: middle;\n",
       "    }\n",
       "\n",
       "    .dataframe tbody tr th {\n",
       "        vertical-align: top;\n",
       "    }\n",
       "\n",
       "    .dataframe thead th {\n",
       "        text-align: right;\n",
       "    }\n",
       "</style>\n",
       "<table border=\"1\" class=\"dataframe\">\n",
       "  <thead>\n",
       "    <tr style=\"text-align: right;\">\n",
       "      <th></th>\n",
       "      <th>open</th>\n",
       "      <th>high</th>\n",
       "      <th>low</th>\n",
       "      <th>close</th>\n",
       "      <th>adjusted_close</th>\n",
       "      <th>volume</th>\n",
       "    </tr>\n",
       "    <tr>\n",
       "      <th>timestamp</th>\n",
       "      <th></th>\n",
       "      <th></th>\n",
       "      <th></th>\n",
       "      <th></th>\n",
       "      <th></th>\n",
       "      <th></th>\n",
       "    </tr>\n",
       "  </thead>\n",
       "  <tbody>\n",
       "    <tr>\n",
       "      <th>01-01-2008</th>\n",
       "      <td>731.1380</td>\n",
       "      <td>731.1380</td>\n",
       "      <td>731.1380</td>\n",
       "      <td>731.1380</td>\n",
       "      <td>138.3511</td>\n",
       "      <td>900025</td>\n",
       "    </tr>\n",
       "    <tr>\n",
       "      <th>01-01-2009</th>\n",
       "      <td>156.3275</td>\n",
       "      <td>175.0770</td>\n",
       "      <td>156.3275</td>\n",
       "      <td>169.1405</td>\n",
       "      <td>32.4982</td>\n",
       "      <td>2983816</td>\n",
       "    </tr>\n",
       "    <tr>\n",
       "      <th>01-01-2013</th>\n",
       "      <td>311.3191</td>\n",
       "      <td>314.6336</td>\n",
       "      <td>311.1707</td>\n",
       "      <td>313.0506</td>\n",
       "      <td>311.2455</td>\n",
       "      <td>828325</td>\n",
       "    </tr>\n",
       "    <tr>\n",
       "      <th>01-01-2014</th>\n",
       "      <td>374.0974</td>\n",
       "      <td>374.6911</td>\n",
       "      <td>370.0408</td>\n",
       "      <td>370.9313</td>\n",
       "      <td>370.0558</td>\n",
       "      <td>179949</td>\n",
       "    </tr>\n",
       "    <tr>\n",
       "      <th>01-01-2015</th>\n",
       "      <td>487.3853</td>\n",
       "      <td>494.4596</td>\n",
       "      <td>487.3853</td>\n",
       "      <td>492.9755</td>\n",
       "      <td>492.8754</td>\n",
       "      <td>108635</td>\n",
       "    </tr>\n",
       "  </tbody>\n",
       "</table>\n",
       "</div>"
      ],
      "text/plain": [
       "                open      high       low     close  adjusted_close   volume\n",
       "timestamp                                                                  \n",
       "01-01-2008  731.1380  731.1380  731.1380  731.1380        138.3511   900025\n",
       "01-01-2009  156.3275  175.0770  156.3275  169.1405         32.4982  2983816\n",
       "01-01-2013  311.3191  314.6336  311.1707  313.0506        311.2455   828325\n",
       "01-01-2014  374.0974  374.6911  370.0408  370.9313        370.0558   179949\n",
       "01-01-2015  487.3853  494.4596  487.3853  492.9755        492.8754   108635"
      ]
     },
     "execution_count": 11,
     "metadata": {},
     "output_type": "execute_result"
    }
   ],
   "source": [
    "df.head()"
   ]
  },
  {
   "cell_type": "code",
   "execution_count": 12,
   "id": "engaging-thought",
   "metadata": {},
   "outputs": [],
   "source": [
    "## Volatility \n",
    "#high to low percent\n",
    "df['HL_PCT'] = (df['high'] - df['low']) / df['close'] * 100.0\n",
    "\n",
    "#Change percent in close to open\n",
    "df['PCT_change'] = (df['close'] - df['open']) / df['open'] * 100.0"
   ]
  },
  {
   "cell_type": "code",
   "execution_count": 13,
   "id": "understanding-interpretation",
   "metadata": {},
   "outputs": [],
   "source": [
    "from sklearn import preprocessing\n",
    "from sklearn.preprocessing import PolynomialFeatures"
   ]
  },
  {
   "cell_type": "code",
   "execution_count": 14,
   "id": "assigned-friendly",
   "metadata": {},
   "outputs": [],
   "source": [
    "#Dropping missing values\n",
    "df.fillna(value=-99999, inplace=True)\n",
    "\n",
    "#separate 1 percent of data to forecast\n",
    "forecast_out = int(math.ceil(0.01 * len(df)))\n",
    "\n",
    "# separate label, we want to predict the adj close\n",
    "forecast_col = 'adjusted_close'\n",
    "df['label'] = df[forecast_col].shift(-forecast_out)\n",
    "X = np.array(df.drop(['label'], 1))\n",
    "#df.head()\n",
    "\n",
    "# Scale X - so all have the same distribution for Linear regression\n",
    "X = preprocessing.scale(X)\n",
    "\n",
    "#finally, we want to find Data series of late X early X (train) for model generation and evaluation\n",
    "X_forecast = X[-forecast_out:]\n",
    "X = X[:-forecast_out]\n",
    "\n",
    "#separate labe (y)\n",
    "y = np.array(df['label'])\n",
    "y = y[:-forecast_out]\n"
   ]
  },
  {
   "cell_type": "code",
   "execution_count": 15,
   "id": "american-purse",
   "metadata": {},
   "outputs": [],
   "source": [
    "from sklearn.model_selection import train_test_split"
   ]
  },
  {
   "cell_type": "code",
   "execution_count": 16,
   "id": "specialized-context",
   "metadata": {},
   "outputs": [],
   "source": [
    "#Split Data\n",
    "X_train, X_test, y_train, y_test = train_test_split(X, y, test_size = 0.2, random_state = 0)"
   ]
  },
  {
   "cell_type": "code",
   "execution_count": 17,
   "id": "rural-position",
   "metadata": {},
   "outputs": [],
   "source": [
    "from sklearn.linear_model import LinearRegression"
   ]
  },
  {
   "cell_type": "code",
   "execution_count": 18,
   "id": "dying-ticket",
   "metadata": {},
   "outputs": [
    {
     "data": {
      "text/plain": [
       "LinearRegression(n_jobs=-1)"
      ]
     },
     "execution_count": 18,
     "metadata": {},
     "output_type": "execute_result"
    }
   ],
   "source": [
    "#Linear regression\n",
    "model = LinearRegression(n_jobs =-1)\n",
    "model.fit(X_train, y_train)"
   ]
  },
  {
   "cell_type": "code",
   "execution_count": 19,
   "id": "dried-cricket",
   "metadata": {},
   "outputs": [
    {
     "name": "stdout",
     "output_type": "stream",
     "text": [
      "12.875617070310174\n"
     ]
    }
   ],
   "source": [
    "#Accuracy of the model\n",
    "confidencereg = model.score(X_test, y_test)\n",
    "\n",
    "reg = confidencereg * 100\n",
    "print(reg)"
   ]
  },
  {
   "cell_type": "code",
   "execution_count": 20,
   "id": "advanced-carry",
   "metadata": {},
   "outputs": [],
   "source": [
    "forecast_reg = model.predict (X_forecast)"
   ]
  },
  {
   "cell_type": "code",
   "execution_count": 21,
   "id": "thousand-shanghai",
   "metadata": {},
   "outputs": [],
   "source": [
    "from datetime import timedelta\n",
    "from textblob import TextBlob\n",
    "import time\n",
    "import nltk"
   ]
  },
  {
   "cell_type": "code",
   "execution_count": 22,
   "id": "clean-favor",
   "metadata": {},
   "outputs": [
    {
     "ename": "ValueError",
     "evalue": "time data '31-12-2020' does not match format '%Y-%m-%d'",
     "output_type": "error",
     "traceback": [
      "\u001b[1;31m---------------------------------------------------------------------------\u001b[0m",
      "\u001b[1;31mValueError\u001b[0m                                Traceback (most recent call last)",
      "\u001b[1;32m<ipython-input-22-50048e7e2169>\u001b[0m in \u001b[0;36m<module>\u001b[1;34m\u001b[0m\n\u001b[0;32m      2\u001b[0m \u001b[1;33m\u001b[0m\u001b[0m\n\u001b[0;32m      3\u001b[0m \u001b[0mlast_date\u001b[0m \u001b[1;33m=\u001b[0m \u001b[0mdf\u001b[0m\u001b[1;33m.\u001b[0m\u001b[0miloc\u001b[0m\u001b[1;33m[\u001b[0m\u001b[1;33m-\u001b[0m\u001b[1;36m1\u001b[0m\u001b[1;33m]\u001b[0m\u001b[1;33m.\u001b[0m\u001b[0mname\u001b[0m\u001b[1;33m\u001b[0m\u001b[1;33m\u001b[0m\u001b[0m\n\u001b[1;32m----> 4\u001b[1;33m \u001b[0mlast_unix\u001b[0m \u001b[1;33m=\u001b[0m \u001b[0mdatetime\u001b[0m\u001b[1;33m.\u001b[0m\u001b[0mstrptime\u001b[0m\u001b[1;33m(\u001b[0m\u001b[0mlast_date\u001b[0m\u001b[1;33m,\u001b[0m \u001b[1;34m'%Y-%m-%d'\u001b[0m\u001b[1;33m)\u001b[0m\u001b[1;33m\u001b[0m\u001b[1;33m\u001b[0m\u001b[0m\n\u001b[0m\u001b[0;32m      5\u001b[0m \u001b[0mnext_unix\u001b[0m \u001b[1;33m=\u001b[0m \u001b[0mlast_unix\u001b[0m \u001b[1;33m+\u001b[0m \u001b[0mtimedelta\u001b[0m\u001b[1;33m(\u001b[0m\u001b[0mdays\u001b[0m\u001b[1;33m=\u001b[0m\u001b[1;36m1\u001b[0m\u001b[1;33m)\u001b[0m\u001b[1;33m\u001b[0m\u001b[1;33m\u001b[0m\u001b[0m\n\u001b[0;32m      6\u001b[0m \u001b[1;33m\u001b[0m\u001b[0m\n",
      "\u001b[1;32mc:\\users\\shady\\appdata\\local\\programs\\python\\python39\\lib\\_strptime.py\u001b[0m in \u001b[0;36m_strptime_datetime\u001b[1;34m(cls, data_string, format)\u001b[0m\n\u001b[0;32m    566\u001b[0m     \"\"\"Return a class cls instance based on the input string and the\n\u001b[0;32m    567\u001b[0m     format string.\"\"\"\n\u001b[1;32m--> 568\u001b[1;33m     \u001b[0mtt\u001b[0m\u001b[1;33m,\u001b[0m \u001b[0mfraction\u001b[0m\u001b[1;33m,\u001b[0m \u001b[0mgmtoff_fraction\u001b[0m \u001b[1;33m=\u001b[0m \u001b[0m_strptime\u001b[0m\u001b[1;33m(\u001b[0m\u001b[0mdata_string\u001b[0m\u001b[1;33m,\u001b[0m \u001b[0mformat\u001b[0m\u001b[1;33m)\u001b[0m\u001b[1;33m\u001b[0m\u001b[1;33m\u001b[0m\u001b[0m\n\u001b[0m\u001b[0;32m    569\u001b[0m     \u001b[0mtzname\u001b[0m\u001b[1;33m,\u001b[0m \u001b[0mgmtoff\u001b[0m \u001b[1;33m=\u001b[0m \u001b[0mtt\u001b[0m\u001b[1;33m[\u001b[0m\u001b[1;33m-\u001b[0m\u001b[1;36m2\u001b[0m\u001b[1;33m:\u001b[0m\u001b[1;33m]\u001b[0m\u001b[1;33m\u001b[0m\u001b[1;33m\u001b[0m\u001b[0m\n\u001b[0;32m    570\u001b[0m     \u001b[0margs\u001b[0m \u001b[1;33m=\u001b[0m \u001b[0mtt\u001b[0m\u001b[1;33m[\u001b[0m\u001b[1;33m:\u001b[0m\u001b[1;36m6\u001b[0m\u001b[1;33m]\u001b[0m \u001b[1;33m+\u001b[0m \u001b[1;33m(\u001b[0m\u001b[0mfraction\u001b[0m\u001b[1;33m,\u001b[0m\u001b[1;33m)\u001b[0m\u001b[1;33m\u001b[0m\u001b[1;33m\u001b[0m\u001b[0m\n",
      "\u001b[1;32mc:\\users\\shady\\appdata\\local\\programs\\python\\python39\\lib\\_strptime.py\u001b[0m in \u001b[0;36m_strptime\u001b[1;34m(data_string, format)\u001b[0m\n\u001b[0;32m    347\u001b[0m     \u001b[0mfound\u001b[0m \u001b[1;33m=\u001b[0m \u001b[0mformat_regex\u001b[0m\u001b[1;33m.\u001b[0m\u001b[0mmatch\u001b[0m\u001b[1;33m(\u001b[0m\u001b[0mdata_string\u001b[0m\u001b[1;33m)\u001b[0m\u001b[1;33m\u001b[0m\u001b[1;33m\u001b[0m\u001b[0m\n\u001b[0;32m    348\u001b[0m     \u001b[1;32mif\u001b[0m \u001b[1;32mnot\u001b[0m \u001b[0mfound\u001b[0m\u001b[1;33m:\u001b[0m\u001b[1;33m\u001b[0m\u001b[1;33m\u001b[0m\u001b[0m\n\u001b[1;32m--> 349\u001b[1;33m         raise ValueError(\"time data %r does not match format %r\" %\n\u001b[0m\u001b[0;32m    350\u001b[0m                          (data_string, format))\n\u001b[0;32m    351\u001b[0m     \u001b[1;32mif\u001b[0m \u001b[0mlen\u001b[0m\u001b[1;33m(\u001b[0m\u001b[0mdata_string\u001b[0m\u001b[1;33m)\u001b[0m \u001b[1;33m!=\u001b[0m \u001b[0mfound\u001b[0m\u001b[1;33m.\u001b[0m\u001b[0mend\u001b[0m\u001b[1;33m(\u001b[0m\u001b[1;33m)\u001b[0m\u001b[1;33m:\u001b[0m\u001b[1;33m\u001b[0m\u001b[1;33m\u001b[0m\u001b[0m\n",
      "\u001b[1;31mValueError\u001b[0m: time data '31-12-2020' does not match format '%Y-%m-%d'"
     ]
    }
   ],
   "source": [
    "df['Forecast_reg'] = np.nan\n",
    "\n",
    "last_date = df.iloc[-1].name\n",
    "last_unix = datetime.strptime(last_date, '%Y-%m-%d')\n",
    "next_unix = last_unix + timedelta(days=1)\n",
    "\n",
    "for i in forecast_reg:\n",
    "    next_date = next_unix\n",
    "    next_unix += timedelta(days=1)\n",
    "    df.loc[next_date] = [np.nan for _ in range(len(df.columns))]\n",
    "    df['Forecast_reg'].loc[next_date] = i"
   ]
  },
  {
   "cell_type": "code",
   "execution_count": 23,
   "id": "legendary-mandate",
   "metadata": {},
   "outputs": [
    {
     "data": {
      "text/plain": [
       "'31-12-2020'"
      ]
     },
     "execution_count": 23,
     "metadata": {},
     "output_type": "execute_result"
    }
   ],
   "source": [
    "df.iloc[-1].name"
   ]
  },
  {
   "cell_type": "code",
   "execution_count": null,
   "id": "healthy-indonesia",
   "metadata": {},
   "outputs": [],
   "source": [
    "df"
   ]
  },
  {
   "cell_type": "code",
   "execution_count": null,
   "id": "marine-shoot",
   "metadata": {},
   "outputs": [],
   "source": []
  }
 ],
 "metadata": {
  "kernelspec": {
   "display_name": "stockprediction",
   "language": "python",
   "name": "stockprediction"
  },
  "language_info": {
   "codemirror_mode": {
    "name": "ipython",
    "version": 3
   },
   "file_extension": ".py",
   "mimetype": "text/x-python",
   "name": "python",
   "nbconvert_exporter": "python",
   "pygments_lexer": "ipython3",
   "version": "3.9.1"
  }
 },
 "nbformat": 4,
 "nbformat_minor": 5
}
