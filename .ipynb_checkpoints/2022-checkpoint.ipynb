{
 "cells": [
  {
   "cell_type": "code",
   "execution_count": 1,
   "id": "constant-signature",
   "metadata": {},
   "outputs": [],
   "source": [
    "import pandas as pd\n",
    "import math\n",
    "from datetime import datetime\n",
    "\n",
    "import numpy as np\n",
    "from pandas import Series, DataFrame\n",
    "import nsepy as ns"
   ]
  },
  {
   "cell_type": "code",
   "execution_count": 2,
   "id": "spectacular-greek",
   "metadata": {},
   "outputs": [],
   "source": [
    "df = pd.read_csv(\"../datasets/data/INDIGO.csv\", index_col = \"timestamp\")"
   ]
  },
  {
   "cell_type": "code",
   "execution_count": 3,
   "id": "adverse-lemon",
   "metadata": {},
   "outputs": [],
   "source": [
    "# ls"
   ]
  },
  {
   "cell_type": "code",
   "execution_count": 4,
   "id": "promising-public",
   "metadata": {},
   "outputs": [
    {
     "data": {
      "text/html": [
       "<div>\n",
       "<style scoped>\n",
       "    .dataframe tbody tr th:only-of-type {\n",
       "        vertical-align: middle;\n",
       "    }\n",
       "\n",
       "    .dataframe tbody tr th {\n",
       "        vertical-align: top;\n",
       "    }\n",
       "\n",
       "    .dataframe thead th {\n",
       "        text-align: right;\n",
       "    }\n",
       "</style>\n",
       "<table border=\"1\" class=\"dataframe\">\n",
       "  <thead>\n",
       "    <tr style=\"text-align: right;\">\n",
       "      <th></th>\n",
       "      <th>open</th>\n",
       "      <th>high</th>\n",
       "      <th>low</th>\n",
       "      <th>close</th>\n",
       "      <th>adjusted_close</th>\n",
       "      <th>volume</th>\n",
       "      <th>dividend_amount</th>\n",
       "      <th>split_coefficient</th>\n",
       "    </tr>\n",
       "    <tr>\n",
       "      <th>timestamp</th>\n",
       "      <th></th>\n",
       "      <th></th>\n",
       "      <th></th>\n",
       "      <th></th>\n",
       "      <th></th>\n",
       "      <th></th>\n",
       "      <th></th>\n",
       "      <th></th>\n",
       "    </tr>\n",
       "  </thead>\n",
       "  <tbody>\n",
       "    <tr>\n",
       "      <th>2021-03-19</th>\n",
       "      <td>1718.00</td>\n",
       "      <td>1729.95</td>\n",
       "      <td>1651.45</td>\n",
       "      <td>1663.65</td>\n",
       "      <td>1663.65</td>\n",
       "      <td>52819</td>\n",
       "      <td>0.0</td>\n",
       "      <td>1.0</td>\n",
       "    </tr>\n",
       "    <tr>\n",
       "      <th>2021-03-18</th>\n",
       "      <td>1657.75</td>\n",
       "      <td>1730.00</td>\n",
       "      <td>1657.75</td>\n",
       "      <td>1718.20</td>\n",
       "      <td>1718.20</td>\n",
       "      <td>48587</td>\n",
       "      <td>0.0</td>\n",
       "      <td>1.0</td>\n",
       "    </tr>\n",
       "    <tr>\n",
       "      <th>2021-03-17</th>\n",
       "      <td>1682.60</td>\n",
       "      <td>1718.75</td>\n",
       "      <td>1671.45</td>\n",
       "      <td>1694.15</td>\n",
       "      <td>1694.15</td>\n",
       "      <td>38550</td>\n",
       "      <td>0.0</td>\n",
       "      <td>1.0</td>\n",
       "    </tr>\n",
       "    <tr>\n",
       "      <th>2021-03-16</th>\n",
       "      <td>1656.00</td>\n",
       "      <td>1700.15</td>\n",
       "      <td>1640.00</td>\n",
       "      <td>1682.60</td>\n",
       "      <td>1682.60</td>\n",
       "      <td>28853</td>\n",
       "      <td>0.0</td>\n",
       "      <td>1.0</td>\n",
       "    </tr>\n",
       "    <tr>\n",
       "      <th>2021-03-15</th>\n",
       "      <td>1689.00</td>\n",
       "      <td>1689.00</td>\n",
       "      <td>1630.20</td>\n",
       "      <td>1656.90</td>\n",
       "      <td>1656.90</td>\n",
       "      <td>43957</td>\n",
       "      <td>0.0</td>\n",
       "      <td>1.0</td>\n",
       "    </tr>\n",
       "  </tbody>\n",
       "</table>\n",
       "</div>"
      ],
      "text/plain": [
       "               open     high      low    close  adjusted_close  volume  \\\n",
       "timestamp                                                                \n",
       "2021-03-19  1718.00  1729.95  1651.45  1663.65         1663.65   52819   \n",
       "2021-03-18  1657.75  1730.00  1657.75  1718.20         1718.20   48587   \n",
       "2021-03-17  1682.60  1718.75  1671.45  1694.15         1694.15   38550   \n",
       "2021-03-16  1656.00  1700.15  1640.00  1682.60         1682.60   28853   \n",
       "2021-03-15  1689.00  1689.00  1630.20  1656.90         1656.90   43957   \n",
       "\n",
       "            dividend_amount  split_coefficient  \n",
       "timestamp                                       \n",
       "2021-03-19              0.0                1.0  \n",
       "2021-03-18              0.0                1.0  \n",
       "2021-03-17              0.0                1.0  \n",
       "2021-03-16              0.0                1.0  \n",
       "2021-03-15              0.0                1.0  "
      ]
     },
     "execution_count": 4,
     "metadata": {},
     "output_type": "execute_result"
    }
   ],
   "source": [
    "df.head()"
   ]
  },
  {
   "cell_type": "code",
   "execution_count": 5,
   "id": "hazardous-verification",
   "metadata": {},
   "outputs": [],
   "source": [
    "# Checking data from nse_py\n",
    "# tata = ns.get_history(symbol=\"TATAMOTORS\", \n",
    "#                     start = datetime(2005,1,1),\n",
    " #                    end = datetime(2021,3,19))"
   ]
  },
  {
   "cell_type": "code",
   "execution_count": 6,
   "id": "referenced-knight",
   "metadata": {},
   "outputs": [],
   "source": [
    "# tata.tail()"
   ]
  },
  {
   "cell_type": "code",
   "execution_count": 7,
   "id": "female-czech",
   "metadata": {},
   "outputs": [],
   "source": [
    "df.sort_values([\"timestamp\"], ascending = True, inplace=True)"
   ]
  },
  {
   "cell_type": "code",
   "execution_count": 8,
   "id": "secondary-volleyball",
   "metadata": {},
   "outputs": [
    {
     "data": {
      "text/html": [
       "<div>\n",
       "<style scoped>\n",
       "    .dataframe tbody tr th:only-of-type {\n",
       "        vertical-align: middle;\n",
       "    }\n",
       "\n",
       "    .dataframe tbody tr th {\n",
       "        vertical-align: top;\n",
       "    }\n",
       "\n",
       "    .dataframe thead th {\n",
       "        text-align: right;\n",
       "    }\n",
       "</style>\n",
       "<table border=\"1\" class=\"dataframe\">\n",
       "  <thead>\n",
       "    <tr style=\"text-align: right;\">\n",
       "      <th></th>\n",
       "      <th>open</th>\n",
       "      <th>high</th>\n",
       "      <th>low</th>\n",
       "      <th>close</th>\n",
       "      <th>adjusted_close</th>\n",
       "      <th>volume</th>\n",
       "      <th>dividend_amount</th>\n",
       "      <th>split_coefficient</th>\n",
       "    </tr>\n",
       "    <tr>\n",
       "      <th>timestamp</th>\n",
       "      <th></th>\n",
       "      <th></th>\n",
       "      <th></th>\n",
       "      <th></th>\n",
       "      <th></th>\n",
       "      <th></th>\n",
       "      <th></th>\n",
       "      <th></th>\n",
       "    </tr>\n",
       "  </thead>\n",
       "  <tbody>\n",
       "    <tr>\n",
       "      <th>2015-11-10</th>\n",
       "      <td>856.0</td>\n",
       "      <td>898.00</td>\n",
       "      <td>848.10</td>\n",
       "      <td>878.45</td>\n",
       "      <td>832.7296</td>\n",
       "      <td>5066114</td>\n",
       "      <td>0.0</td>\n",
       "      <td>1.0</td>\n",
       "    </tr>\n",
       "    <tr>\n",
       "      <th>2015-11-13</th>\n",
       "      <td>921.0</td>\n",
       "      <td>1032.70</td>\n",
       "      <td>918.00</td>\n",
       "      <td>1003.25</td>\n",
       "      <td>951.0341</td>\n",
       "      <td>1679120</td>\n",
       "      <td>0.0</td>\n",
       "      <td>1.0</td>\n",
       "    </tr>\n",
       "    <tr>\n",
       "      <th>2015-11-16</th>\n",
       "      <td>1009.0</td>\n",
       "      <td>1039.50</td>\n",
       "      <td>965.45</td>\n",
       "      <td>987.60</td>\n",
       "      <td>936.1987</td>\n",
       "      <td>836121</td>\n",
       "      <td>0.0</td>\n",
       "      <td>1.0</td>\n",
       "    </tr>\n",
       "    <tr>\n",
       "      <th>2015-11-17</th>\n",
       "      <td>990.0</td>\n",
       "      <td>1049.00</td>\n",
       "      <td>977.00</td>\n",
       "      <td>1035.10</td>\n",
       "      <td>981.2264</td>\n",
       "      <td>753676</td>\n",
       "      <td>0.0</td>\n",
       "      <td>1.0</td>\n",
       "    </tr>\n",
       "    <tr>\n",
       "      <th>2015-11-18</th>\n",
       "      <td>1021.0</td>\n",
       "      <td>1067.65</td>\n",
       "      <td>1015.00</td>\n",
       "      <td>1044.40</td>\n",
       "      <td>990.0425</td>\n",
       "      <td>791693</td>\n",
       "      <td>0.0</td>\n",
       "      <td>1.0</td>\n",
       "    </tr>\n",
       "  </tbody>\n",
       "</table>\n",
       "</div>"
      ],
      "text/plain": [
       "              open     high      low    close  adjusted_close   volume  \\\n",
       "timestamp                                                                \n",
       "2015-11-10   856.0   898.00   848.10   878.45        832.7296  5066114   \n",
       "2015-11-13   921.0  1032.70   918.00  1003.25        951.0341  1679120   \n",
       "2015-11-16  1009.0  1039.50   965.45   987.60        936.1987   836121   \n",
       "2015-11-17   990.0  1049.00   977.00  1035.10        981.2264   753676   \n",
       "2015-11-18  1021.0  1067.65  1015.00  1044.40        990.0425   791693   \n",
       "\n",
       "            dividend_amount  split_coefficient  \n",
       "timestamp                                       \n",
       "2015-11-10              0.0                1.0  \n",
       "2015-11-13              0.0                1.0  \n",
       "2015-11-16              0.0                1.0  \n",
       "2015-11-17              0.0                1.0  \n",
       "2015-11-18              0.0                1.0  "
      ]
     },
     "execution_count": 8,
     "metadata": {},
     "output_type": "execute_result"
    }
   ],
   "source": [
    "df.head()"
   ]
  },
  {
   "cell_type": "code",
   "execution_count": 9,
   "id": "unlimited-homework",
   "metadata": {},
   "outputs": [
    {
     "data": {
      "text/html": [
       "<div>\n",
       "<style scoped>\n",
       "    .dataframe tbody tr th:only-of-type {\n",
       "        vertical-align: middle;\n",
       "    }\n",
       "\n",
       "    .dataframe tbody tr th {\n",
       "        vertical-align: top;\n",
       "    }\n",
       "\n",
       "    .dataframe thead th {\n",
       "        text-align: right;\n",
       "    }\n",
       "</style>\n",
       "<table border=\"1\" class=\"dataframe\">\n",
       "  <thead>\n",
       "    <tr style=\"text-align: right;\">\n",
       "      <th></th>\n",
       "      <th>open</th>\n",
       "      <th>high</th>\n",
       "      <th>low</th>\n",
       "      <th>close</th>\n",
       "      <th>adjusted_close</th>\n",
       "      <th>volume</th>\n",
       "      <th>dividend_amount</th>\n",
       "      <th>split_coefficient</th>\n",
       "    </tr>\n",
       "    <tr>\n",
       "      <th>timestamp</th>\n",
       "      <th></th>\n",
       "      <th></th>\n",
       "      <th></th>\n",
       "      <th></th>\n",
       "      <th></th>\n",
       "      <th></th>\n",
       "      <th></th>\n",
       "      <th></th>\n",
       "    </tr>\n",
       "  </thead>\n",
       "  <tbody>\n",
       "    <tr>\n",
       "      <th>2021-03-15</th>\n",
       "      <td>1689.00</td>\n",
       "      <td>1689.00</td>\n",
       "      <td>1630.20</td>\n",
       "      <td>1656.90</td>\n",
       "      <td>1656.90</td>\n",
       "      <td>43957</td>\n",
       "      <td>0.0</td>\n",
       "      <td>1.0</td>\n",
       "    </tr>\n",
       "    <tr>\n",
       "      <th>2021-03-16</th>\n",
       "      <td>1656.00</td>\n",
       "      <td>1700.15</td>\n",
       "      <td>1640.00</td>\n",
       "      <td>1682.60</td>\n",
       "      <td>1682.60</td>\n",
       "      <td>28853</td>\n",
       "      <td>0.0</td>\n",
       "      <td>1.0</td>\n",
       "    </tr>\n",
       "    <tr>\n",
       "      <th>2021-03-17</th>\n",
       "      <td>1682.60</td>\n",
       "      <td>1718.75</td>\n",
       "      <td>1671.45</td>\n",
       "      <td>1694.15</td>\n",
       "      <td>1694.15</td>\n",
       "      <td>38550</td>\n",
       "      <td>0.0</td>\n",
       "      <td>1.0</td>\n",
       "    </tr>\n",
       "    <tr>\n",
       "      <th>2021-03-18</th>\n",
       "      <td>1657.75</td>\n",
       "      <td>1730.00</td>\n",
       "      <td>1657.75</td>\n",
       "      <td>1718.20</td>\n",
       "      <td>1718.20</td>\n",
       "      <td>48587</td>\n",
       "      <td>0.0</td>\n",
       "      <td>1.0</td>\n",
       "    </tr>\n",
       "    <tr>\n",
       "      <th>2021-03-19</th>\n",
       "      <td>1718.00</td>\n",
       "      <td>1729.95</td>\n",
       "      <td>1651.45</td>\n",
       "      <td>1663.65</td>\n",
       "      <td>1663.65</td>\n",
       "      <td>52819</td>\n",
       "      <td>0.0</td>\n",
       "      <td>1.0</td>\n",
       "    </tr>\n",
       "  </tbody>\n",
       "</table>\n",
       "</div>"
      ],
      "text/plain": [
       "               open     high      low    close  adjusted_close  volume  \\\n",
       "timestamp                                                                \n",
       "2021-03-15  1689.00  1689.00  1630.20  1656.90         1656.90   43957   \n",
       "2021-03-16  1656.00  1700.15  1640.00  1682.60         1682.60   28853   \n",
       "2021-03-17  1682.60  1718.75  1671.45  1694.15         1694.15   38550   \n",
       "2021-03-18  1657.75  1730.00  1657.75  1718.20         1718.20   48587   \n",
       "2021-03-19  1718.00  1729.95  1651.45  1663.65         1663.65   52819   \n",
       "\n",
       "            dividend_amount  split_coefficient  \n",
       "timestamp                                       \n",
       "2021-03-15              0.0                1.0  \n",
       "2021-03-16              0.0                1.0  \n",
       "2021-03-17              0.0                1.0  \n",
       "2021-03-18              0.0                1.0  \n",
       "2021-03-19              0.0                1.0  "
      ]
     },
     "execution_count": 9,
     "metadata": {},
     "output_type": "execute_result"
    }
   ],
   "source": [
    "df.tail()"
   ]
  },
  {
   "cell_type": "code",
   "execution_count": 10,
   "id": "banner-blogger",
   "metadata": {},
   "outputs": [],
   "source": [
    "df = df[['open', 'high', 'low', 'close', 'adjusted_close', 'volume']]"
   ]
  },
  {
   "cell_type": "code",
   "execution_count": 11,
   "id": "interracial-understanding",
   "metadata": {},
   "outputs": [
    {
     "data": {
      "text/html": [
       "<div>\n",
       "<style scoped>\n",
       "    .dataframe tbody tr th:only-of-type {\n",
       "        vertical-align: middle;\n",
       "    }\n",
       "\n",
       "    .dataframe tbody tr th {\n",
       "        vertical-align: top;\n",
       "    }\n",
       "\n",
       "    .dataframe thead th {\n",
       "        text-align: right;\n",
       "    }\n",
       "</style>\n",
       "<table border=\"1\" class=\"dataframe\">\n",
       "  <thead>\n",
       "    <tr style=\"text-align: right;\">\n",
       "      <th></th>\n",
       "      <th>open</th>\n",
       "      <th>high</th>\n",
       "      <th>low</th>\n",
       "      <th>close</th>\n",
       "      <th>adjusted_close</th>\n",
       "      <th>volume</th>\n",
       "    </tr>\n",
       "    <tr>\n",
       "      <th>timestamp</th>\n",
       "      <th></th>\n",
       "      <th></th>\n",
       "      <th></th>\n",
       "      <th></th>\n",
       "      <th></th>\n",
       "      <th></th>\n",
       "    </tr>\n",
       "  </thead>\n",
       "  <tbody>\n",
       "    <tr>\n",
       "      <th>2015-11-10</th>\n",
       "      <td>856.0</td>\n",
       "      <td>898.00</td>\n",
       "      <td>848.10</td>\n",
       "      <td>878.45</td>\n",
       "      <td>832.7296</td>\n",
       "      <td>5066114</td>\n",
       "    </tr>\n",
       "    <tr>\n",
       "      <th>2015-11-13</th>\n",
       "      <td>921.0</td>\n",
       "      <td>1032.70</td>\n",
       "      <td>918.00</td>\n",
       "      <td>1003.25</td>\n",
       "      <td>951.0341</td>\n",
       "      <td>1679120</td>\n",
       "    </tr>\n",
       "    <tr>\n",
       "      <th>2015-11-16</th>\n",
       "      <td>1009.0</td>\n",
       "      <td>1039.50</td>\n",
       "      <td>965.45</td>\n",
       "      <td>987.60</td>\n",
       "      <td>936.1987</td>\n",
       "      <td>836121</td>\n",
       "    </tr>\n",
       "    <tr>\n",
       "      <th>2015-11-17</th>\n",
       "      <td>990.0</td>\n",
       "      <td>1049.00</td>\n",
       "      <td>977.00</td>\n",
       "      <td>1035.10</td>\n",
       "      <td>981.2264</td>\n",
       "      <td>753676</td>\n",
       "    </tr>\n",
       "    <tr>\n",
       "      <th>2015-11-18</th>\n",
       "      <td>1021.0</td>\n",
       "      <td>1067.65</td>\n",
       "      <td>1015.00</td>\n",
       "      <td>1044.40</td>\n",
       "      <td>990.0425</td>\n",
       "      <td>791693</td>\n",
       "    </tr>\n",
       "  </tbody>\n",
       "</table>\n",
       "</div>"
      ],
      "text/plain": [
       "              open     high      low    close  adjusted_close   volume\n",
       "timestamp                                                             \n",
       "2015-11-10   856.0   898.00   848.10   878.45        832.7296  5066114\n",
       "2015-11-13   921.0  1032.70   918.00  1003.25        951.0341  1679120\n",
       "2015-11-16  1009.0  1039.50   965.45   987.60        936.1987   836121\n",
       "2015-11-17   990.0  1049.00   977.00  1035.10        981.2264   753676\n",
       "2015-11-18  1021.0  1067.65  1015.00  1044.40        990.0425   791693"
      ]
     },
     "execution_count": 11,
     "metadata": {},
     "output_type": "execute_result"
    }
   ],
   "source": [
    "df.head()"
   ]
  },
  {
   "cell_type": "code",
   "execution_count": 12,
   "id": "engaging-thought",
   "metadata": {},
   "outputs": [],
   "source": [
    "## Volatility \n",
    "#high to low percent\n",
    "df['HL_PCT'] = (df['high'] - df['low']) / df['close'] * 100.0\n",
    "\n",
    "#Change percent in close to open\n",
    "df['PCT_change'] = (df['close'] - df['open']) / df['open'] * 100.0"
   ]
  },
  {
   "cell_type": "code",
   "execution_count": 13,
   "id": "understanding-interpretation",
   "metadata": {},
   "outputs": [],
   "source": [
    "from sklearn import preprocessing\n",
    "from sklearn.preprocessing import PolynomialFeatures"
   ]
  },
  {
   "cell_type": "code",
   "execution_count": 14,
   "id": "assigned-friendly",
   "metadata": {},
   "outputs": [],
   "source": [
    "#Dropping missing values\n",
    "df.fillna(value=-99999, inplace=True)\n",
    "\n",
    "#separate 1 percent of data to forecast\n",
    "forecast_out = int(math.ceil(0.01 * len(df)))\n",
    "\n",
    "# separate label, we want to predict the adj close\n",
    "forecast_col = 'adjusted_close'\n",
    "df['label'] = df[forecast_col].shift(-forecast_out)\n",
    "X = np.array(df.drop(['label'], 1))\n",
    "#df.head()\n",
    "\n",
    "# Scale X - so all have the same distribution for Linear regression\n",
    "X = preprocessing.scale(X)\n",
    "\n",
    "#finally, we want to find Data series of late X early X (train) for model generation and evaluation\n",
    "X_forecast = X[-forecast_out:]\n",
    "X = X[:-forecast_out]\n",
    "\n",
    "#separate labe (y)\n",
    "y = np.array(df['label'])\n",
    "y = y[:-forecast_out]\n"
   ]
  },
  {
   "cell_type": "code",
   "execution_count": 15,
   "id": "american-purse",
   "metadata": {},
   "outputs": [],
   "source": [
    "from sklearn.model_selection import train_test_split"
   ]
  },
  {
   "cell_type": "code",
   "execution_count": 16,
   "id": "specialized-context",
   "metadata": {},
   "outputs": [],
   "source": [
    "#Split Data\n",
    "X_train, X_test, y_train, y_test = train_test_split(X, y, test_size = 0.2, random_state = 0)"
   ]
  },
  {
   "cell_type": "code",
   "execution_count": 17,
   "id": "rural-position",
   "metadata": {},
   "outputs": [],
   "source": [
    "from sklearn.linear_model import LinearRegression"
   ]
  },
  {
   "cell_type": "code",
   "execution_count": 18,
   "id": "dying-ticket",
   "metadata": {},
   "outputs": [
    {
     "data": {
      "text/plain": [
       "LinearRegression(n_jobs=-1)"
      ]
     },
     "execution_count": 18,
     "metadata": {},
     "output_type": "execute_result"
    }
   ],
   "source": [
    "#Linear regression\n",
    "model = LinearRegression(n_jobs =-1)\n",
    "model.fit(X_train, y_train)"
   ]
  },
  {
   "cell_type": "code",
   "execution_count": 19,
   "id": "dried-cricket",
   "metadata": {},
   "outputs": [
    {
     "name": "stdout",
     "output_type": "stream",
     "text": [
      "83.36688471262363\n"
     ]
    }
   ],
   "source": [
    "#Accuracy of the model\n",
    "confidencereg = model.score(X_test, y_test)\n",
    "\n",
    "reg = confidencereg * 100\n",
    "print(reg)"
   ]
  },
  {
   "cell_type": "code",
   "execution_count": 20,
   "id": "advanced-carry",
   "metadata": {},
   "outputs": [],
   "source": [
    "forecast_reg = model.predict (X_forecast)"
   ]
  },
  {
   "cell_type": "code",
   "execution_count": 21,
   "id": "thousand-shanghai",
   "metadata": {},
   "outputs": [],
   "source": [
    "from datetime import timedelta\n",
    "from textblob import TextBlob\n",
    "import time\n",
    "import nltk"
   ]
  },
  {
   "cell_type": "code",
   "execution_count": 22,
   "id": "clean-favor",
   "metadata": {},
   "outputs": [
    {
     "ename": "TypeError",
     "evalue": "can only concatenate str (not \"datetime.timedelta\") to str",
     "output_type": "error",
     "traceback": [
      "\u001b[1;31m---------------------------------------------------------------------------\u001b[0m",
      "\u001b[1;31mTypeError\u001b[0m                                 Traceback (most recent call last)",
      "\u001b[1;32m<ipython-input-22-114fcfd20439>\u001b[0m in \u001b[0;36m<module>\u001b[1;34m\u001b[0m\n\u001b[0;32m      3\u001b[0m \u001b[0mlast_date\u001b[0m \u001b[1;33m=\u001b[0m \u001b[0mdf\u001b[0m\u001b[1;33m.\u001b[0m\u001b[0miloc\u001b[0m\u001b[1;33m[\u001b[0m\u001b[1;33m-\u001b[0m\u001b[1;36m1\u001b[0m\u001b[1;33m]\u001b[0m\u001b[1;33m.\u001b[0m\u001b[0mname\u001b[0m\u001b[1;33m\u001b[0m\u001b[1;33m\u001b[0m\u001b[0m\n\u001b[0;32m      4\u001b[0m \u001b[0mlast_unix\u001b[0m \u001b[1;33m=\u001b[0m \u001b[0mlast_date\u001b[0m\u001b[1;33m\u001b[0m\u001b[1;33m\u001b[0m\u001b[0m\n\u001b[1;32m----> 5\u001b[1;33m \u001b[0mnext_unix\u001b[0m \u001b[1;33m=\u001b[0m \u001b[0mlast_unix\u001b[0m \u001b[1;33m+\u001b[0m \u001b[0mtimedelta\u001b[0m\u001b[1;33m(\u001b[0m\u001b[0mdays\u001b[0m\u001b[1;33m=\u001b[0m\u001b[1;36m1\u001b[0m\u001b[1;33m)\u001b[0m\u001b[1;33m\u001b[0m\u001b[1;33m\u001b[0m\u001b[0m\n\u001b[0m\u001b[0;32m      6\u001b[0m \u001b[1;33m\u001b[0m\u001b[0m\n\u001b[0;32m      7\u001b[0m \u001b[1;32mfor\u001b[0m \u001b[0mi\u001b[0m \u001b[1;32min\u001b[0m \u001b[0mforecast_reg\u001b[0m\u001b[1;33m:\u001b[0m\u001b[1;33m\u001b[0m\u001b[1;33m\u001b[0m\u001b[0m\n",
      "\u001b[1;31mTypeError\u001b[0m: can only concatenate str (not \"datetime.timedelta\") to str"
     ]
    }
   ],
   "source": [
    "df['Forecast_reg'] = np.nan\n",
    "\n",
    "last_date = df.iloc[-1].name\n",
    "last_unix = datetime.strptime(last_date, '%Y-%m-%d')\n",
    "next_unix = last_unix + timedelta(days=1)\n",
    "\n",
    "for i in forecast_reg:\n",
    "    next_date = next_unix\n",
    "    next_unix += timedelta(days=1)\n",
    "    df.loc[next_date] = [np.nan for _ in range(len(df.columns))]\n",
    "    df['Forecast_reg'].loc[next_date] = i"
   ]
  },
  {
   "cell_type": "code",
   "execution_count": null,
   "id": "legendary-mandate",
   "metadata": {},
   "outputs": [],
   "source": [
    "df.iloc[-1].name"
   ]
  },
  {
   "cell_type": "code",
   "execution_count": null,
   "id": "healthy-indonesia",
   "metadata": {},
   "outputs": [],
   "source": [
    "df.iloc[-50:-1]"
   ]
  },
  {
   "cell_type": "code",
   "execution_count": null,
   "id": "marine-shoot",
   "metadata": {},
   "outputs": [],
   "source": []
  }
 ],
 "metadata": {
  "kernelspec": {
   "display_name": "stockprediction",
   "language": "python",
   "name": "stockprediction"
  },
  "language_info": {
   "codemirror_mode": {
    "name": "ipython",
    "version": 3
   },
   "file_extension": ".py",
   "mimetype": "text/x-python",
   "name": "python",
   "nbconvert_exporter": "python",
   "pygments_lexer": "ipython3",
   "version": "3.9.1"
  }
 },
 "nbformat": 4,
 "nbformat_minor": 5
}
