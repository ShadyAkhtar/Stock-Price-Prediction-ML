{
 "cells": [
  {
   "cell_type": "code",
   "execution_count": 1,
   "id": "constant-signature",
   "metadata": {},
   "outputs": [],
   "source": [
    "import pandas as pd\n",
    "import math\n",
    "from datetime import datetime\n",
    "\n",
    "import numpy as np\n",
    "from pandas import Series, DataFrame\n",
    "import nsepy as ns"
   ]
  },
  {
   "cell_type": "code",
   "execution_count": 2,
   "id": "spectacular-greek",
   "metadata": {},
   "outputs": [],
   "source": [
    "# df = pd.read_csv(\"../datasets/data/TATAMOTORS.csv\")"
   ]
  },
  {
   "cell_type": "code",
   "execution_count": 3,
   "id": "adverse-lemon",
   "metadata": {},
   "outputs": [],
   "source": [
    "# ls"
   ]
  },
  {
   "cell_type": "code",
   "execution_count": 4,
   "id": "promising-public",
   "metadata": {},
   "outputs": [
    {
     "data": {
      "text/html": [
       "<div>\n",
       "<style scoped>\n",
       "    .dataframe tbody tr th:only-of-type {\n",
       "        vertical-align: middle;\n",
       "    }\n",
       "\n",
       "    .dataframe tbody tr th {\n",
       "        vertical-align: top;\n",
       "    }\n",
       "\n",
       "    .dataframe thead th {\n",
       "        text-align: right;\n",
       "    }\n",
       "</style>\n",
       "<table border=\"1\" class=\"dataframe\">\n",
       "  <thead>\n",
       "    <tr style=\"text-align: right;\">\n",
       "      <th></th>\n",
       "      <th>timestamp</th>\n",
       "      <th>open</th>\n",
       "      <th>high</th>\n",
       "      <th>low</th>\n",
       "      <th>close</th>\n",
       "      <th>adjusted_close</th>\n",
       "      <th>volume</th>\n",
       "      <th>dividend_amount</th>\n",
       "      <th>split_coefficient</th>\n",
       "    </tr>\n",
       "  </thead>\n",
       "  <tbody>\n",
       "    <tr>\n",
       "      <th>0</th>\n",
       "      <td>2021-03-19</td>\n",
       "      <td>303.3</td>\n",
       "      <td>311.00</td>\n",
       "      <td>290.35</td>\n",
       "      <td>308.95</td>\n",
       "      <td>308.95</td>\n",
       "      <td>5202269</td>\n",
       "      <td>0.0</td>\n",
       "      <td>1.0</td>\n",
       "    </tr>\n",
       "    <tr>\n",
       "      <th>1</th>\n",
       "      <td>2021-03-18</td>\n",
       "      <td>310.6</td>\n",
       "      <td>316.50</td>\n",
       "      <td>299.75</td>\n",
       "      <td>306.90</td>\n",
       "      <td>306.90</td>\n",
       "      <td>5997189</td>\n",
       "      <td>0.0</td>\n",
       "      <td>1.0</td>\n",
       "    </tr>\n",
       "    <tr>\n",
       "      <th>2</th>\n",
       "      <td>2021-03-17</td>\n",
       "      <td>317.0</td>\n",
       "      <td>320.00</td>\n",
       "      <td>304.00</td>\n",
       "      <td>305.85</td>\n",
       "      <td>305.85</td>\n",
       "      <td>2202123</td>\n",
       "      <td>0.0</td>\n",
       "      <td>1.0</td>\n",
       "    </tr>\n",
       "    <tr>\n",
       "      <th>3</th>\n",
       "      <td>2021-03-16</td>\n",
       "      <td>320.3</td>\n",
       "      <td>321.80</td>\n",
       "      <td>315.30</td>\n",
       "      <td>319.75</td>\n",
       "      <td>319.75</td>\n",
       "      <td>1860583</td>\n",
       "      <td>0.0</td>\n",
       "      <td>1.0</td>\n",
       "    </tr>\n",
       "    <tr>\n",
       "      <th>4</th>\n",
       "      <td>2021-03-15</td>\n",
       "      <td>320.4</td>\n",
       "      <td>320.65</td>\n",
       "      <td>310.10</td>\n",
       "      <td>318.45</td>\n",
       "      <td>318.45</td>\n",
       "      <td>2305974</td>\n",
       "      <td>0.0</td>\n",
       "      <td>1.0</td>\n",
       "    </tr>\n",
       "  </tbody>\n",
       "</table>\n",
       "</div>"
      ],
      "text/plain": [
       "    timestamp   open    high     low   close  adjusted_close   volume  \\\n",
       "0  2021-03-19  303.3  311.00  290.35  308.95          308.95  5202269   \n",
       "1  2021-03-18  310.6  316.50  299.75  306.90          306.90  5997189   \n",
       "2  2021-03-17  317.0  320.00  304.00  305.85          305.85  2202123   \n",
       "3  2021-03-16  320.3  321.80  315.30  319.75          319.75  1860583   \n",
       "4  2021-03-15  320.4  320.65  310.10  318.45          318.45  2305974   \n",
       "\n",
       "   dividend_amount  split_coefficient  \n",
       "0              0.0                1.0  \n",
       "1              0.0                1.0  \n",
       "2              0.0                1.0  \n",
       "3              0.0                1.0  \n",
       "4              0.0                1.0  "
      ]
     },
     "execution_count": 4,
     "metadata": {},
     "output_type": "execute_result"
    }
   ],
   "source": [
    "#df.head()"
   ]
  },
  {
   "cell_type": "code",
   "execution_count": 5,
   "id": "hazardous-verification",
   "metadata": {},
   "outputs": [],
   "source": [
    "# Checking data from nse_py\n",
    "df = ns.get_history(symbol=\"TATAMOTORS\", \n",
    "                    start = datetime(2005,1,1),\n",
    "                    end = datetime(2021,3,19))"
   ]
  },
  {
   "cell_type": "code",
   "execution_count": 6,
   "id": "referenced-knight",
   "metadata": {},
   "outputs": [],
   "source": [
    "df.tail()"
   ]
  },
  {
   "cell_type": "code",
   "execution_count": 7,
   "id": "female-czech",
   "metadata": {},
   "outputs": [],
   "source": [
    "df.sort_values([\"timestamp\"], ascending = True, inplace=True)"
   ]
  },
  {
   "cell_type": "code",
   "execution_count": 8,
   "id": "catholic-shape",
   "metadata": {},
   "outputs": [
    {
     "data": {
      "text/html": [
       "<div>\n",
       "<style scoped>\n",
       "    .dataframe tbody tr th:only-of-type {\n",
       "        vertical-align: middle;\n",
       "    }\n",
       "\n",
       "    .dataframe tbody tr th {\n",
       "        vertical-align: top;\n",
       "    }\n",
       "\n",
       "    .dataframe thead th {\n",
       "        text-align: right;\n",
       "    }\n",
       "</style>\n",
       "<table border=\"1\" class=\"dataframe\">\n",
       "  <thead>\n",
       "    <tr style=\"text-align: right;\">\n",
       "      <th></th>\n",
       "      <th>timestamp</th>\n",
       "      <th>open</th>\n",
       "      <th>high</th>\n",
       "      <th>low</th>\n",
       "      <th>close</th>\n",
       "      <th>adjusted_close</th>\n",
       "      <th>volume</th>\n",
       "      <th>dividend_amount</th>\n",
       "      <th>split_coefficient</th>\n",
       "    </tr>\n",
       "  </thead>\n",
       "  <tbody>\n",
       "    <tr>\n",
       "      <th>3993</th>\n",
       "      <td>2005-01-03</td>\n",
       "      <td>488.4315</td>\n",
       "      <td>501.1275</td>\n",
       "      <td>487.7130</td>\n",
       "      <td>498.3485</td>\n",
       "      <td>91.0978</td>\n",
       "      <td>6639096</td>\n",
       "      <td>0.0</td>\n",
       "      <td>1.0</td>\n",
       "    </tr>\n",
       "    <tr>\n",
       "      <th>3992</th>\n",
       "      <td>2005-01-04</td>\n",
       "      <td>499.5465</td>\n",
       "      <td>504.0020</td>\n",
       "      <td>496.3845</td>\n",
       "      <td>498.0610</td>\n",
       "      <td>91.0452</td>\n",
       "      <td>3195182</td>\n",
       "      <td>0.0</td>\n",
       "      <td>1.0</td>\n",
       "    </tr>\n",
       "    <tr>\n",
       "      <th>3991</th>\n",
       "      <td>2005-01-05</td>\n",
       "      <td>493.4620</td>\n",
       "      <td>498.2530</td>\n",
       "      <td>455.1350</td>\n",
       "      <td>482.5865</td>\n",
       "      <td>88.2165</td>\n",
       "      <td>8983091</td>\n",
       "      <td>0.0</td>\n",
       "      <td>1.0</td>\n",
       "    </tr>\n",
       "    <tr>\n",
       "      <th>3990</th>\n",
       "      <td>2005-01-06</td>\n",
       "      <td>483.8800</td>\n",
       "      <td>488.1920</td>\n",
       "      <td>470.6575</td>\n",
       "      <td>474.5380</td>\n",
       "      <td>86.7450</td>\n",
       "      <td>8203064</td>\n",
       "      <td>0.0</td>\n",
       "      <td>1.0</td>\n",
       "    </tr>\n",
       "    <tr>\n",
       "      <th>3989</th>\n",
       "      <td>2005-01-07</td>\n",
       "      <td>472.3820</td>\n",
       "      <td>477.0770</td>\n",
       "      <td>466.6330</td>\n",
       "      <td>472.6215</td>\n",
       "      <td>86.3948</td>\n",
       "      <td>3401813</td>\n",
       "      <td>0.0</td>\n",
       "      <td>1.0</td>\n",
       "    </tr>\n",
       "  </tbody>\n",
       "</table>\n",
       "</div>"
      ],
      "text/plain": [
       "       timestamp      open      high       low     close  adjusted_close  \\\n",
       "3993  2005-01-03  488.4315  501.1275  487.7130  498.3485         91.0978   \n",
       "3992  2005-01-04  499.5465  504.0020  496.3845  498.0610         91.0452   \n",
       "3991  2005-01-05  493.4620  498.2530  455.1350  482.5865         88.2165   \n",
       "3990  2005-01-06  483.8800  488.1920  470.6575  474.5380         86.7450   \n",
       "3989  2005-01-07  472.3820  477.0770  466.6330  472.6215         86.3948   \n",
       "\n",
       "       volume  dividend_amount  split_coefficient  \n",
       "3993  6639096              0.0                1.0  \n",
       "3992  3195182              0.0                1.0  \n",
       "3991  8983091              0.0                1.0  \n",
       "3990  8203064              0.0                1.0  \n",
       "3989  3401813              0.0                1.0  "
      ]
     },
     "execution_count": 8,
     "metadata": {},
     "output_type": "execute_result"
    }
   ],
   "source": [
    "df.head()"
   ]
  },
  {
   "cell_type": "code",
   "execution_count": 9,
   "id": "studied-encoding",
   "metadata": {},
   "outputs": [
    {
     "data": {
      "text/html": [
       "<div>\n",
       "<style scoped>\n",
       "    .dataframe tbody tr th:only-of-type {\n",
       "        vertical-align: middle;\n",
       "    }\n",
       "\n",
       "    .dataframe tbody tr th {\n",
       "        vertical-align: top;\n",
       "    }\n",
       "\n",
       "    .dataframe thead th {\n",
       "        text-align: right;\n",
       "    }\n",
       "</style>\n",
       "<table border=\"1\" class=\"dataframe\">\n",
       "  <thead>\n",
       "    <tr style=\"text-align: right;\">\n",
       "      <th></th>\n",
       "      <th>timestamp</th>\n",
       "      <th>open</th>\n",
       "      <th>high</th>\n",
       "      <th>low</th>\n",
       "      <th>close</th>\n",
       "      <th>adjusted_close</th>\n",
       "      <th>volume</th>\n",
       "      <th>dividend_amount</th>\n",
       "      <th>split_coefficient</th>\n",
       "    </tr>\n",
       "  </thead>\n",
       "  <tbody>\n",
       "    <tr>\n",
       "      <th>4</th>\n",
       "      <td>2021-03-15</td>\n",
       "      <td>320.4</td>\n",
       "      <td>320.65</td>\n",
       "      <td>310.10</td>\n",
       "      <td>318.45</td>\n",
       "      <td>318.45</td>\n",
       "      <td>2305974</td>\n",
       "      <td>0.0</td>\n",
       "      <td>1.0</td>\n",
       "    </tr>\n",
       "    <tr>\n",
       "      <th>3</th>\n",
       "      <td>2021-03-16</td>\n",
       "      <td>320.3</td>\n",
       "      <td>321.80</td>\n",
       "      <td>315.30</td>\n",
       "      <td>319.75</td>\n",
       "      <td>319.75</td>\n",
       "      <td>1860583</td>\n",
       "      <td>0.0</td>\n",
       "      <td>1.0</td>\n",
       "    </tr>\n",
       "    <tr>\n",
       "      <th>2</th>\n",
       "      <td>2021-03-17</td>\n",
       "      <td>317.0</td>\n",
       "      <td>320.00</td>\n",
       "      <td>304.00</td>\n",
       "      <td>305.85</td>\n",
       "      <td>305.85</td>\n",
       "      <td>2202123</td>\n",
       "      <td>0.0</td>\n",
       "      <td>1.0</td>\n",
       "    </tr>\n",
       "    <tr>\n",
       "      <th>1</th>\n",
       "      <td>2021-03-18</td>\n",
       "      <td>310.6</td>\n",
       "      <td>316.50</td>\n",
       "      <td>299.75</td>\n",
       "      <td>306.90</td>\n",
       "      <td>306.90</td>\n",
       "      <td>5997189</td>\n",
       "      <td>0.0</td>\n",
       "      <td>1.0</td>\n",
       "    </tr>\n",
       "    <tr>\n",
       "      <th>0</th>\n",
       "      <td>2021-03-19</td>\n",
       "      <td>303.3</td>\n",
       "      <td>311.00</td>\n",
       "      <td>290.35</td>\n",
       "      <td>308.95</td>\n",
       "      <td>308.95</td>\n",
       "      <td>5202269</td>\n",
       "      <td>0.0</td>\n",
       "      <td>1.0</td>\n",
       "    </tr>\n",
       "  </tbody>\n",
       "</table>\n",
       "</div>"
      ],
      "text/plain": [
       "    timestamp   open    high     low   close  adjusted_close   volume  \\\n",
       "4  2021-03-15  320.4  320.65  310.10  318.45          318.45  2305974   \n",
       "3  2021-03-16  320.3  321.80  315.30  319.75          319.75  1860583   \n",
       "2  2021-03-17  317.0  320.00  304.00  305.85          305.85  2202123   \n",
       "1  2021-03-18  310.6  316.50  299.75  306.90          306.90  5997189   \n",
       "0  2021-03-19  303.3  311.00  290.35  308.95          308.95  5202269   \n",
       "\n",
       "   dividend_amount  split_coefficient  \n",
       "4              0.0                1.0  \n",
       "3              0.0                1.0  \n",
       "2              0.0                1.0  \n",
       "1              0.0                1.0  \n",
       "0              0.0                1.0  "
      ]
     },
     "execution_count": 9,
     "metadata": {},
     "output_type": "execute_result"
    }
   ],
   "source": [
    "df.tail()"
   ]
  },
  {
   "cell_type": "code",
   "execution_count": 10,
   "id": "acoustic-essay",
   "metadata": {},
   "outputs": [],
   "source": [
    "df = df[['open', 'high', 'low', 'close', 'adjusted_close', 'volume']]"
   ]
  },
  {
   "cell_type": "code",
   "execution_count": 11,
   "id": "electrical-covering",
   "metadata": {},
   "outputs": [
    {
     "data": {
      "text/html": [
       "<div>\n",
       "<style scoped>\n",
       "    .dataframe tbody tr th:only-of-type {\n",
       "        vertical-align: middle;\n",
       "    }\n",
       "\n",
       "    .dataframe tbody tr th {\n",
       "        vertical-align: top;\n",
       "    }\n",
       "\n",
       "    .dataframe thead th {\n",
       "        text-align: right;\n",
       "    }\n",
       "</style>\n",
       "<table border=\"1\" class=\"dataframe\">\n",
       "  <thead>\n",
       "    <tr style=\"text-align: right;\">\n",
       "      <th></th>\n",
       "      <th>open</th>\n",
       "      <th>high</th>\n",
       "      <th>low</th>\n",
       "      <th>close</th>\n",
       "      <th>adjusted_close</th>\n",
       "      <th>volume</th>\n",
       "    </tr>\n",
       "  </thead>\n",
       "  <tbody>\n",
       "    <tr>\n",
       "      <th>3993</th>\n",
       "      <td>488.4315</td>\n",
       "      <td>501.1275</td>\n",
       "      <td>487.7130</td>\n",
       "      <td>498.3485</td>\n",
       "      <td>91.0978</td>\n",
       "      <td>6639096</td>\n",
       "    </tr>\n",
       "    <tr>\n",
       "      <th>3992</th>\n",
       "      <td>499.5465</td>\n",
       "      <td>504.0020</td>\n",
       "      <td>496.3845</td>\n",
       "      <td>498.0610</td>\n",
       "      <td>91.0452</td>\n",
       "      <td>3195182</td>\n",
       "    </tr>\n",
       "    <tr>\n",
       "      <th>3991</th>\n",
       "      <td>493.4620</td>\n",
       "      <td>498.2530</td>\n",
       "      <td>455.1350</td>\n",
       "      <td>482.5865</td>\n",
       "      <td>88.2165</td>\n",
       "      <td>8983091</td>\n",
       "    </tr>\n",
       "    <tr>\n",
       "      <th>3990</th>\n",
       "      <td>483.8800</td>\n",
       "      <td>488.1920</td>\n",
       "      <td>470.6575</td>\n",
       "      <td>474.5380</td>\n",
       "      <td>86.7450</td>\n",
       "      <td>8203064</td>\n",
       "    </tr>\n",
       "    <tr>\n",
       "      <th>3989</th>\n",
       "      <td>472.3820</td>\n",
       "      <td>477.0770</td>\n",
       "      <td>466.6330</td>\n",
       "      <td>472.6215</td>\n",
       "      <td>86.3948</td>\n",
       "      <td>3401813</td>\n",
       "    </tr>\n",
       "  </tbody>\n",
       "</table>\n",
       "</div>"
      ],
      "text/plain": [
       "          open      high       low     close  adjusted_close   volume\n",
       "3993  488.4315  501.1275  487.7130  498.3485         91.0978  6639096\n",
       "3992  499.5465  504.0020  496.3845  498.0610         91.0452  3195182\n",
       "3991  493.4620  498.2530  455.1350  482.5865         88.2165  8983091\n",
       "3990  483.8800  488.1920  470.6575  474.5380         86.7450  8203064\n",
       "3989  472.3820  477.0770  466.6330  472.6215         86.3948  3401813"
      ]
     },
     "execution_count": 11,
     "metadata": {},
     "output_type": "execute_result"
    }
   ],
   "source": [
    "df.head()"
   ]
  },
  {
   "cell_type": "code",
   "execution_count": 12,
   "id": "functional-difference",
   "metadata": {},
   "outputs": [],
   "source": [
    "## Volatility \n",
    "#high to low percent\n",
    "df['HL_PCT'] = (df['high'] - df['low']) / df['close'] * 100.0\n",
    "\n",
    "#Change percent in close to open\n",
    "df['PCT_change'] = (df['close'] - df['open']) / df['open'] * 100.0"
   ]
  },
  {
   "cell_type": "code",
   "execution_count": 13,
   "id": "double-theology",
   "metadata": {},
   "outputs": [],
   "source": [
    "from sklearn import preprocessing\n",
    "from sklearn.preprocessing import PolynomialFeatures"
   ]
  },
  {
   "cell_type": "code",
   "execution_count": 14,
   "id": "attached-valley",
   "metadata": {},
   "outputs": [],
   "source": [
    "#Dropping missing values\n",
    "df.fillna(value=-99999, inplace=True)\n",
    "\n",
    "#separate 1 percent of data to forecast\n",
    "forecast_out = int(math.ceil(0.01 * len(df)))\n",
    "\n",
    "# separate label, we want to predict the adj close\n",
    "forecast_col = 'adjusted_close'\n",
    "df['label'] = df[forecast_col].shift(-forecast_out)\n",
    "X = np.array(df.drop(['label'], 1))\n",
    "#df.head()\n",
    "\n",
    "# Scale X - so all have the same distribution for Linear regression\n",
    "X = preprocessing.scale(X)\n",
    "\n",
    "#finally, we want to find Data series of late X early X (train) for model generation and evaluation\n",
    "X_forecast = X[-forecast_out:]\n",
    "X = X[:-forecast_out]\n",
    "\n",
    "#separate labe (y)\n",
    "y = np.array(df['label'])\n",
    "y = y[:-forecast_out]\n"
   ]
  },
  {
   "cell_type": "code",
   "execution_count": 16,
   "id": "unsigned-retrieval",
   "metadata": {},
   "outputs": [],
   "source": [
    "from sklearn.model_selection import train_test_split"
   ]
  },
  {
   "cell_type": "code",
   "execution_count": 17,
   "id": "resident-excuse",
   "metadata": {},
   "outputs": [],
   "source": [
    "#Split Data\n",
    "X_train, X_test, y_train, y_test = train_test_split(X, y, test_size = 0.2, random_state = 0)"
   ]
  },
  {
   "cell_type": "code",
   "execution_count": 19,
   "id": "ceramic-career",
   "metadata": {},
   "outputs": [],
   "source": [
    "from sklearn.linear_model import LinearRegression"
   ]
  },
  {
   "cell_type": "code",
   "execution_count": 23,
   "id": "unlimited-symbol",
   "metadata": {},
   "outputs": [
    {
     "data": {
      "text/plain": [
       "LinearRegression(n_jobs=-1)"
      ]
     },
     "execution_count": 23,
     "metadata": {},
     "output_type": "execute_result"
    }
   ],
   "source": [
    "#Linear regression\n",
    "model = LinearRegression(n_jobs =-1)\n",
    "model.fit(X_train, y_train)"
   ]
  },
  {
   "cell_type": "code",
   "execution_count": 24,
   "id": "enclosed-uncle",
   "metadata": {},
   "outputs": [
    {
     "name": "stdout",
     "output_type": "stream",
     "text": [
      "91.05678680963523\n"
     ]
    }
   ],
   "source": [
    "#Accuracy of the model\n",
    "confidencereg = model.score(X_test, y_test)\n",
    "\n",
    "reg = confidencereg * 100\n",
    "print(reg)"
   ]
  },
  {
   "cell_type": "code",
   "execution_count": 25,
   "id": "charitable-merchandise",
   "metadata": {},
   "outputs": [],
   "source": [
    "forecast_reg = model.predict (X_forecast)"
   ]
  },
  {
   "cell_type": "code",
   "execution_count": 32,
   "id": "scientific-telling",
   "metadata": {},
   "outputs": [],
   "source": [
    "from datetime import timedelta\n",
    "from textblob import TextBlob\n",
    "import time\n",
    "import nltk"
   ]
  },
  {
   "cell_type": "code",
   "execution_count": 34,
   "id": "robust-conference",
   "metadata": {},
   "outputs": [
    {
     "ename": "TypeError",
     "evalue": "strptime() argument 1 must be str, not numpy.int64",
     "output_type": "error",
     "traceback": [
      "\u001b[1;31m---------------------------------------------------------------------------\u001b[0m",
      "\u001b[1;31mTypeError\u001b[0m                                 Traceback (most recent call last)",
      "\u001b[1;32m<ipython-input-34-50048e7e2169>\u001b[0m in \u001b[0;36m<module>\u001b[1;34m\u001b[0m\n\u001b[0;32m      2\u001b[0m \u001b[1;33m\u001b[0m\u001b[0m\n\u001b[0;32m      3\u001b[0m \u001b[0mlast_date\u001b[0m \u001b[1;33m=\u001b[0m \u001b[0mdf\u001b[0m\u001b[1;33m.\u001b[0m\u001b[0miloc\u001b[0m\u001b[1;33m[\u001b[0m\u001b[1;33m-\u001b[0m\u001b[1;36m1\u001b[0m\u001b[1;33m]\u001b[0m\u001b[1;33m.\u001b[0m\u001b[0mname\u001b[0m\u001b[1;33m\u001b[0m\u001b[1;33m\u001b[0m\u001b[0m\n\u001b[1;32m----> 4\u001b[1;33m \u001b[0mlast_unix\u001b[0m \u001b[1;33m=\u001b[0m \u001b[0mdatetime\u001b[0m\u001b[1;33m.\u001b[0m\u001b[0mstrptime\u001b[0m\u001b[1;33m(\u001b[0m\u001b[0mlast_date\u001b[0m\u001b[1;33m,\u001b[0m \u001b[1;34m'%Y-%m-%d'\u001b[0m\u001b[1;33m)\u001b[0m\u001b[1;33m\u001b[0m\u001b[1;33m\u001b[0m\u001b[0m\n\u001b[0m\u001b[0;32m      5\u001b[0m \u001b[0mnext_unix\u001b[0m \u001b[1;33m=\u001b[0m \u001b[0mlast_unix\u001b[0m \u001b[1;33m+\u001b[0m \u001b[0mtimedelta\u001b[0m\u001b[1;33m(\u001b[0m\u001b[0mdays\u001b[0m\u001b[1;33m=\u001b[0m\u001b[1;36m1\u001b[0m\u001b[1;33m)\u001b[0m\u001b[1;33m\u001b[0m\u001b[1;33m\u001b[0m\u001b[0m\n\u001b[0;32m      6\u001b[0m \u001b[1;33m\u001b[0m\u001b[0m\n",
      "\u001b[1;31mTypeError\u001b[0m: strptime() argument 1 must be str, not numpy.int64"
     ]
    }
   ],
   "source": [
    "df['Forecast_reg'] = np.nan\n",
    "\n",
    "last_date = df.iloc[-1].name\n",
    "last_unix = datetime.strptime(last_date, '%Y-%m-%d')\n",
    "next_unix = last_unix + timedelta(days=1)\n",
    "\n",
    "for i in forecast_reg:\n",
    "    next_date = next_unix\n",
    "    next_unix += timedelta(days=1)\n",
    "    df.loc[next_date] = [np.nan for _ in range(len(df.columns))]\n",
    "    df['Forecast_reg'].loc[next_date] = i"
   ]
  },
  {
   "cell_type": "code",
   "execution_count": null,
   "id": "three-argentina",
   "metadata": {},
   "outputs": [],
   "source": []
  }
 ],
 "metadata": {
  "kernelspec": {
   "display_name": "stockprediction",
   "language": "python",
   "name": "stockprediction"
  },
  "language_info": {
   "codemirror_mode": {
    "name": "ipython",
    "version": 3
   },
   "file_extension": ".py",
   "mimetype": "text/x-python",
   "name": "python",
   "nbconvert_exporter": "python",
   "pygments_lexer": "ipython3",
   "version": "3.9.1"
  }
 },
 "nbformat": 4,
 "nbformat_minor": 5
}
