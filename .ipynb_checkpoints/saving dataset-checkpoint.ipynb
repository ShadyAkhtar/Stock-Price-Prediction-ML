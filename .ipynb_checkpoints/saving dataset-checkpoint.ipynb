{
 "cells": [
  {
   "cell_type": "code",
   "execution_count": 3,
   "id": "removable-sacrifice",
   "metadata": {},
   "outputs": [],
   "source": [
    "import pandas as pd\n",
    "import nsepy as ns\n",
    "from datetime import datetime"
   ]
  },
  {
   "cell_type": "code",
   "execution_count": 4,
   "id": "congressional-documentation",
   "metadata": {},
   "outputs": [],
   "source": [
    "# Checking data from nse_py\n",
    "dtf = ns.get_history(symbol=\"TATAMOTORS\", \n",
    "                    start = datetime(2005,1,1),\n",
    "                    end = datetime(2021,3,19))"
   ]
  },
  {
   "cell_type": "code",
   "execution_count": 5,
   "id": "static-reality",
   "metadata": {},
   "outputs": [],
   "source": [
    "dtf.to_csv('TATAMOTORS.csv')"
   ]
  },
  {
   "cell_type": "code",
   "execution_count": 6,
   "id": "polish-mission",
   "metadata": {},
   "outputs": [],
   "source": [
    "df = pd.read_csv('TATAMOTORS.csv')"
   ]
  },
  {
   "cell_type": "code",
   "execution_count": 7,
   "id": "included-hormone",
   "metadata": {},
   "outputs": [
    {
     "data": {
      "text/html": [
       "<div>\n",
       "<style scoped>\n",
       "    .dataframe tbody tr th:only-of-type {\n",
       "        vertical-align: middle;\n",
       "    }\n",
       "\n",
       "    .dataframe tbody tr th {\n",
       "        vertical-align: top;\n",
       "    }\n",
       "\n",
       "    .dataframe thead th {\n",
       "        text-align: right;\n",
       "    }\n",
       "</style>\n",
       "<table border=\"1\" class=\"dataframe\">\n",
       "  <thead>\n",
       "    <tr style=\"text-align: right;\">\n",
       "      <th></th>\n",
       "      <th>Date</th>\n",
       "      <th>Symbol</th>\n",
       "      <th>Series</th>\n",
       "      <th>Prev Close</th>\n",
       "      <th>Open</th>\n",
       "      <th>High</th>\n",
       "      <th>Low</th>\n",
       "      <th>Last</th>\n",
       "      <th>Close</th>\n",
       "      <th>VWAP</th>\n",
       "      <th>Volume</th>\n",
       "      <th>Turnover</th>\n",
       "      <th>Trades</th>\n",
       "      <th>Deliverable Volume</th>\n",
       "      <th>%Deliverble</th>\n",
       "    </tr>\n",
       "  </thead>\n",
       "  <tbody>\n",
       "    <tr>\n",
       "      <th>0</th>\n",
       "      <td>2005-01-03</td>\n",
       "      <td>TATAMOTORS</td>\n",
       "      <td>EQ</td>\n",
       "      <td>505.25</td>\n",
       "      <td>509.90</td>\n",
       "      <td>523.40</td>\n",
       "      <td>508.5</td>\n",
       "      <td>522.5</td>\n",
       "      <td>520.45</td>\n",
       "      <td>517.20</td>\n",
       "      <td>2947420</td>\n",
       "      <td>1.524399e+14</td>\n",
       "      <td>NaN</td>\n",
       "      <td>785505.0</td>\n",
       "      <td>0.2665</td>\n",
       "    </tr>\n",
       "    <tr>\n",
       "      <th>1</th>\n",
       "      <td>2005-01-04</td>\n",
       "      <td>TATAMOTORS</td>\n",
       "      <td>EQ</td>\n",
       "      <td>520.45</td>\n",
       "      <td>523.55</td>\n",
       "      <td>525.95</td>\n",
       "      <td>518.0</td>\n",
       "      <td>520.1</td>\n",
       "      <td>519.80</td>\n",
       "      <td>521.63</td>\n",
       "      <td>1775212</td>\n",
       "      <td>9.260105e+13</td>\n",
       "      <td>NaN</td>\n",
       "      <td>348824.0</td>\n",
       "      <td>0.1965</td>\n",
       "    </tr>\n",
       "    <tr>\n",
       "      <th>2</th>\n",
       "      <td>2005-01-05</td>\n",
       "      <td>TATAMOTORS</td>\n",
       "      <td>EQ</td>\n",
       "      <td>519.80</td>\n",
       "      <td>516.50</td>\n",
       "      <td>519.35</td>\n",
       "      <td>480.0</td>\n",
       "      <td>504.0</td>\n",
       "      <td>503.70</td>\n",
       "      <td>501.05</td>\n",
       "      <td>3849472</td>\n",
       "      <td>1.928796e+14</td>\n",
       "      <td>NaN</td>\n",
       "      <td>977598.0</td>\n",
       "      <td>0.2540</td>\n",
       "    </tr>\n",
       "    <tr>\n",
       "      <th>3</th>\n",
       "      <td>2005-01-06</td>\n",
       "      <td>TATAMOTORS</td>\n",
       "      <td>EQ</td>\n",
       "      <td>503.70</td>\n",
       "      <td>501.00</td>\n",
       "      <td>509.40</td>\n",
       "      <td>489.2</td>\n",
       "      <td>492.0</td>\n",
       "      <td>493.20</td>\n",
       "      <td>500.08</td>\n",
       "      <td>3014483</td>\n",
       "      <td>1.507487e+14</td>\n",
       "      <td>NaN</td>\n",
       "      <td>442501.0</td>\n",
       "      <td>0.1468</td>\n",
       "    </tr>\n",
       "    <tr>\n",
       "      <th>4</th>\n",
       "      <td>2005-01-07</td>\n",
       "      <td>TATAMOTORS</td>\n",
       "      <td>EQ</td>\n",
       "      <td>493.20</td>\n",
       "      <td>488.10</td>\n",
       "      <td>498.00</td>\n",
       "      <td>486.4</td>\n",
       "      <td>491.5</td>\n",
       "      <td>492.75</td>\n",
       "      <td>492.39</td>\n",
       "      <td>1939641</td>\n",
       "      <td>9.550539e+13</td>\n",
       "      <td>NaN</td>\n",
       "      <td>445000.0</td>\n",
       "      <td>0.2294</td>\n",
       "    </tr>\n",
       "  </tbody>\n",
       "</table>\n",
       "</div>"
      ],
      "text/plain": [
       "         Date      Symbol Series  Prev Close    Open    High    Low   Last  \\\n",
       "0  2005-01-03  TATAMOTORS     EQ      505.25  509.90  523.40  508.5  522.5   \n",
       "1  2005-01-04  TATAMOTORS     EQ      520.45  523.55  525.95  518.0  520.1   \n",
       "2  2005-01-05  TATAMOTORS     EQ      519.80  516.50  519.35  480.0  504.0   \n",
       "3  2005-01-06  TATAMOTORS     EQ      503.70  501.00  509.40  489.2  492.0   \n",
       "4  2005-01-07  TATAMOTORS     EQ      493.20  488.10  498.00  486.4  491.5   \n",
       "\n",
       "    Close    VWAP   Volume      Turnover  Trades  Deliverable Volume  \\\n",
       "0  520.45  517.20  2947420  1.524399e+14     NaN            785505.0   \n",
       "1  519.80  521.63  1775212  9.260105e+13     NaN            348824.0   \n",
       "2  503.70  501.05  3849472  1.928796e+14     NaN            977598.0   \n",
       "3  493.20  500.08  3014483  1.507487e+14     NaN            442501.0   \n",
       "4  492.75  492.39  1939641  9.550539e+13     NaN            445000.0   \n",
       "\n",
       "   %Deliverble  \n",
       "0       0.2665  \n",
       "1       0.1965  \n",
       "2       0.2540  \n",
       "3       0.1468  \n",
       "4       0.2294  "
      ]
     },
     "execution_count": 7,
     "metadata": {},
     "output_type": "execute_result"
    }
   ],
   "source": [
    "df.head()"
   ]
  },
  {
   "cell_type": "code",
   "execution_count": 8,
   "id": "happy-toddler",
   "metadata": {},
   "outputs": [
    {
     "data": {
      "text/plain": [
       "Date                          2021-03-19\n",
       "Symbol                        TATAMOTORS\n",
       "Series                                EQ\n",
       "Prev Close                         307.0\n",
       "Open                               303.5\n",
       "High                               311.0\n",
       "Low                                290.2\n",
       "Last                               308.2\n",
       "Close                             308.95\n",
       "VWAP                              302.07\n",
       "Volume                         109932681\n",
       "Turnover              3320704360515000.0\n",
       "Trades                          562664.0\n",
       "Deliverable Volume            16755161.0\n",
       "%Deliverble                       0.1524\n",
       "Name: 4025, dtype: object"
      ]
     },
     "execution_count": 8,
     "metadata": {},
     "output_type": "execute_result"
    }
   ],
   "source": [
    "df.iloc[-1]"
   ]
  },
  {
   "cell_type": "code",
   "execution_count": 17,
   "id": "wooden-tradition",
   "metadata": {},
   "outputs": [
    {
     "data": {
      "text/plain": [
       "'2021-03-19'"
      ]
     },
     "execution_count": 17,
     "metadata": {},
     "output_type": "execute_result"
    }
   ],
   "source": [
    "df.iloc[-1,0]"
   ]
  },
  {
   "cell_type": "code",
   "execution_count": null,
   "id": "detailed-dealing",
   "metadata": {},
   "outputs": [],
   "source": []
  }
 ],
 "metadata": {
  "kernelspec": {
   "display_name": "stockprediction",
   "language": "python",
   "name": "stockprediction"
  },
  "language_info": {
   "codemirror_mode": {
    "name": "ipython",
    "version": 3
   },
   "file_extension": ".py",
   "mimetype": "text/x-python",
   "name": "python",
   "nbconvert_exporter": "python",
   "pygments_lexer": "ipython3",
   "version": "3.9.1"
  }
 },
 "nbformat": 4,
 "nbformat_minor": 5
}
